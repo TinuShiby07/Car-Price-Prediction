{
 "cells": [
  {
   "cell_type": "code",
   "execution_count": 1,
   "metadata": {},
   "outputs": [],
   "source": [
    "import numpy as np\n",
    "import pandas as pd\n",
    "import matplotlib.pyplot as plt\n",
    "%matplotlib inline\n",
    "import seaborn as sns\n",
    "from sklearn.preprocessing import StandardScaler\n",
    "from sklearn.model_selection import train_test_split\n",
    "import statsmodels.api as sm\n",
    "from sklearn.tree import DecisionTreeRegressor\n",
    "from sklearn.ensemble import RandomForestRegressor\n",
    "from sklearn.svm import SVR\n",
    "import xgboost as xgb\n",
    "from xgboost import XGBRegressor\n",
    "from sklearn.model_selection import train_test_split,GridSearchCV,cross_val_score\n",
    "from sklearn.metrics import mean_squared_error,mean_absolute_error,r2_score\n",
    "import pickle\n",
    "import warnings\n",
    "warnings.filterwarnings('ignore')"
   ]
  },
  {
   "cell_type": "code",
   "execution_count": 2,
   "metadata": {},
   "outputs": [
    {
     "data": {
      "text/html": [
       "<div>\n",
       "<style scoped>\n",
       "    .dataframe tbody tr th:only-of-type {\n",
       "        vertical-align: middle;\n",
       "    }\n",
       "\n",
       "    .dataframe tbody tr th {\n",
       "        vertical-align: top;\n",
       "    }\n",
       "\n",
       "    .dataframe thead th {\n",
       "        text-align: right;\n",
       "    }\n",
       "</style>\n",
       "<table border=\"1\" class=\"dataframe\">\n",
       "  <thead>\n",
       "    <tr style=\"text-align: right;\">\n",
       "      <th></th>\n",
       "      <th>Unnamed: 0</th>\n",
       "      <th>Car_name</th>\n",
       "      <th>Making Year</th>\n",
       "      <th>Fuel_Type</th>\n",
       "      <th>Kms</th>\n",
       "      <th>Engine</th>\n",
       "      <th>No. of owners</th>\n",
       "      <th>Transmission</th>\n",
       "      <th>Price</th>\n",
       "    </tr>\n",
       "  </thead>\n",
       "  <tbody>\n",
       "    <tr>\n",
       "      <th>0</th>\n",
       "      <td>0</td>\n",
       "      <td>Lexus NX 300h</td>\n",
       "      <td>2018</td>\n",
       "      <td>Petrol</td>\n",
       "      <td>7,622 kms</td>\n",
       "      <td>2499 CC</td>\n",
       "      <td>First Owner</td>\n",
       "      <td>Automatic</td>\n",
       "      <td>63.95 Lakh*</td>\n",
       "    </tr>\n",
       "    <tr>\n",
       "      <th>1</th>\n",
       "      <td>1</td>\n",
       "      <td>Audi Q3 2.0 TDI</td>\n",
       "      <td>2013</td>\n",
       "      <td>Diesel</td>\n",
       "      <td>67,000 kms</td>\n",
       "      <td>1968 CC</td>\n",
       "      <td>Third Owner</td>\n",
       "      <td>Automatic</td>\n",
       "      <td>13.5 Lakh*</td>\n",
       "    </tr>\n",
       "    <tr>\n",
       "      <th>2</th>\n",
       "      <td>2</td>\n",
       "      <td>Audi A6 2.0 TDI Premium Plus</td>\n",
       "      <td>2012</td>\n",
       "      <td>Diesel</td>\n",
       "      <td>75,000 kms</td>\n",
       "      <td>1968 CC</td>\n",
       "      <td>Second Owner</td>\n",
       "      <td>Automatic</td>\n",
       "      <td>13.5 Lakh*</td>\n",
       "    </tr>\n",
       "    <tr>\n",
       "      <th>3</th>\n",
       "      <td>3</td>\n",
       "      <td>BMW 3 Series 320d Sport Line</td>\n",
       "      <td>2015</td>\n",
       "      <td>Diesel</td>\n",
       "      <td>64,000 kms</td>\n",
       "      <td>1995 CC</td>\n",
       "      <td>First Owner</td>\n",
       "      <td>Automatic</td>\n",
       "      <td>22.75 Lakh*</td>\n",
       "    </tr>\n",
       "    <tr>\n",
       "      <th>4</th>\n",
       "      <td>4</td>\n",
       "      <td>BMW 7 Series 730Ld M Sport Plus</td>\n",
       "      <td>2013</td>\n",
       "      <td>Diesel</td>\n",
       "      <td>65,000 kms</td>\n",
       "      <td>2993 CC</td>\n",
       "      <td>Second Owner</td>\n",
       "      <td>Automatic</td>\n",
       "      <td>27 Lakh*</td>\n",
       "    </tr>\n",
       "  </tbody>\n",
       "</table>\n",
       "</div>"
      ],
      "text/plain": [
       "   Unnamed: 0                         Car_name Making Year Fuel_Type  \\\n",
       "0           0                    Lexus NX 300h        2018    Petrol   \n",
       "1           1                  Audi Q3 2.0 TDI        2013    Diesel   \n",
       "2           2     Audi A6 2.0 TDI Premium Plus        2012    Diesel   \n",
       "3           3     BMW 3 Series 320d Sport Line        2015    Diesel   \n",
       "4           4  BMW 7 Series 730Ld M Sport Plus        2013    Diesel   \n",
       "\n",
       "          Kms   Engine No. of owners Transmission        Price  \n",
       "0   7,622 kms  2499 CC   First Owner    Automatic  63.95 Lakh*  \n",
       "1  67,000 kms  1968 CC   Third Owner    Automatic   13.5 Lakh*  \n",
       "2  75,000 kms  1968 CC  Second Owner    Automatic   13.5 Lakh*  \n",
       "3  64,000 kms  1995 CC   First Owner    Automatic  22.75 Lakh*  \n",
       "4  65,000 kms  2993 CC  Second Owner    Automatic     27 Lakh*  "
      ]
     },
     "execution_count": 2,
     "metadata": {},
     "output_type": "execute_result"
    }
   ],
   "source": [
    "df1 = pd.read_csv(\"Details1.csv\")\n",
    "df2 = pd.read_csv(\"Details2.csv\")\n",
    "df = df1.append(df2)\n",
    "df.head(5)"
   ]
  },
  {
   "cell_type": "code",
   "execution_count": 3,
   "metadata": {},
   "outputs": [
    {
     "data": {
      "text/plain": [
       "(5093, 9)"
      ]
     },
     "execution_count": 3,
     "metadata": {},
     "output_type": "execute_result"
    }
   ],
   "source": [
    "df.shape"
   ]
  },
  {
   "cell_type": "code",
   "execution_count": 4,
   "metadata": {},
   "outputs": [
    {
     "data": {
      "text/plain": [
       "Unnamed: 0       0\n",
       "Car_name         0\n",
       "Making Year      0\n",
       "Fuel_Type        0\n",
       "Kms              0\n",
       "Engine           0\n",
       "No. of owners    0\n",
       "Transmission     0\n",
       "Price            0\n",
       "dtype: int64"
      ]
     },
     "execution_count": 4,
     "metadata": {},
     "output_type": "execute_result"
    }
   ],
   "source": [
    "df.isnull().sum()"
   ]
  },
  {
   "cell_type": "code",
   "execution_count": 5,
   "metadata": {},
   "outputs": [
    {
     "name": "stdout",
     "output_type": "stream",
     "text": [
      "<class 'pandas.core.frame.DataFrame'>\n",
      "Int64Index: 5093 entries, 0 to 1625\n",
      "Data columns (total 9 columns):\n",
      " #   Column         Non-Null Count  Dtype \n",
      "---  ------         --------------  ----- \n",
      " 0   Unnamed: 0     5093 non-null   int64 \n",
      " 1   Car_name       5093 non-null   object\n",
      " 2   Making Year    5093 non-null   object\n",
      " 3   Fuel_Type      5093 non-null   object\n",
      " 4   Kms            5093 non-null   object\n",
      " 5   Engine         5093 non-null   object\n",
      " 6   No. of owners  5093 non-null   object\n",
      " 7   Transmission   5093 non-null   object\n",
      " 8   Price          5093 non-null   object\n",
      "dtypes: int64(1), object(8)\n",
      "memory usage: 397.9+ KB\n"
     ]
    }
   ],
   "source": [
    "df.info()"
   ]
  },
  {
   "cell_type": "markdown",
   "metadata": {},
   "source": [
    "#### All the columns are of type object"
   ]
  },
  {
   "cell_type": "markdown",
   "metadata": {},
   "source": [
    "##### Dropping Unnamed: 0 as it is same as index"
   ]
  },
  {
   "cell_type": "code",
   "execution_count": 6,
   "metadata": {},
   "outputs": [
    {
     "data": {
      "text/html": [
       "<div>\n",
       "<style scoped>\n",
       "    .dataframe tbody tr th:only-of-type {\n",
       "        vertical-align: middle;\n",
       "    }\n",
       "\n",
       "    .dataframe tbody tr th {\n",
       "        vertical-align: top;\n",
       "    }\n",
       "\n",
       "    .dataframe thead th {\n",
       "        text-align: right;\n",
       "    }\n",
       "</style>\n",
       "<table border=\"1\" class=\"dataframe\">\n",
       "  <thead>\n",
       "    <tr style=\"text-align: right;\">\n",
       "      <th></th>\n",
       "      <th>Car_name</th>\n",
       "      <th>Making Year</th>\n",
       "      <th>Fuel_Type</th>\n",
       "      <th>Kms</th>\n",
       "      <th>Engine</th>\n",
       "      <th>No. of owners</th>\n",
       "      <th>Transmission</th>\n",
       "      <th>Price</th>\n",
       "    </tr>\n",
       "  </thead>\n",
       "  <tbody>\n",
       "    <tr>\n",
       "      <th>0</th>\n",
       "      <td>Lexus NX 300h</td>\n",
       "      <td>2018</td>\n",
       "      <td>Petrol</td>\n",
       "      <td>7,622 kms</td>\n",
       "      <td>2499 CC</td>\n",
       "      <td>First Owner</td>\n",
       "      <td>Automatic</td>\n",
       "      <td>63.95 Lakh*</td>\n",
       "    </tr>\n",
       "    <tr>\n",
       "      <th>1</th>\n",
       "      <td>Audi Q3 2.0 TDI</td>\n",
       "      <td>2013</td>\n",
       "      <td>Diesel</td>\n",
       "      <td>67,000 kms</td>\n",
       "      <td>1968 CC</td>\n",
       "      <td>Third Owner</td>\n",
       "      <td>Automatic</td>\n",
       "      <td>13.5 Lakh*</td>\n",
       "    </tr>\n",
       "  </tbody>\n",
       "</table>\n",
       "</div>"
      ],
      "text/plain": [
       "          Car_name Making Year Fuel_Type         Kms   Engine No. of owners  \\\n",
       "0    Lexus NX 300h        2018    Petrol   7,622 kms  2499 CC   First Owner   \n",
       "1  Audi Q3 2.0 TDI        2013    Diesel  67,000 kms  1968 CC   Third Owner   \n",
       "\n",
       "  Transmission        Price  \n",
       "0    Automatic  63.95 Lakh*  \n",
       "1    Automatic   13.5 Lakh*  "
      ]
     },
     "execution_count": 6,
     "metadata": {},
     "output_type": "execute_result"
    }
   ],
   "source": [
    "df = df.drop('Unnamed: 0',axis=1)\n",
    "df.head(2)"
   ]
  },
  {
   "cell_type": "code",
   "execution_count": 7,
   "metadata": {},
   "outputs": [],
   "source": [
    "df['Kms'] = df['Kms'].apply(lambda x : x.split(' ')[0])"
   ]
  },
  {
   "cell_type": "code",
   "execution_count": 8,
   "metadata": {},
   "outputs": [],
   "source": [
    "df['Engine'] = df['Engine'].apply(lambda x : x.split(' ')[0])\n",
    "df['Price'] = df['Price'].apply(lambda x: x.split(' ')[0])"
   ]
  },
  {
   "cell_type": "code",
   "execution_count": 9,
   "metadata": {},
   "outputs": [],
   "source": [
    "# Taking the company name from the car name\n",
    "df['Company'] = df['Car_name'].apply(lambda x : x.split(' ')[0])\n",
    "df = df.drop('Car_name',axis=1)"
   ]
  },
  {
   "cell_type": "code",
   "execution_count": 10,
   "metadata": {},
   "outputs": [
    {
     "name": "stdout",
     "output_type": "stream",
     "text": [
      "<class 'pandas.core.frame.DataFrame'>\n",
      "Int64Index: 5093 entries, 0 to 1625\n",
      "Data columns (total 8 columns):\n",
      " #   Column         Non-Null Count  Dtype \n",
      "---  ------         --------------  ----- \n",
      " 0   Making Year    5093 non-null   object\n",
      " 1   Fuel_Type      5093 non-null   object\n",
      " 2   Kms            5093 non-null   object\n",
      " 3   Engine         5093 non-null   object\n",
      " 4   No. of owners  5093 non-null   object\n",
      " 5   Transmission   5093 non-null   object\n",
      " 6   Price          5093 non-null   object\n",
      " 7   Company        5093 non-null   object\n",
      "dtypes: object(8)\n",
      "memory usage: 358.1+ KB\n"
     ]
    }
   ],
   "source": [
    "df.info()"
   ]
  },
  {
   "cell_type": "code",
   "execution_count": 11,
   "metadata": {},
   "outputs": [
    {
     "data": {
      "text/plain": [
       "array(['Lexus', 'Audi', 'BMW', 'Mercedes-Benz', 'Maruti', 'Honda',\n",
       "       'Mahindra', 'Hyundai', 'Renault', 'Toyota', 'Jaguar', 'Skoda',\n",
       "       'Chevrolet', 'Datsun', 'Ford', 'Tata', 'Volkswagen', 'Porsche',\n",
       "       'Premier', 'Volvo', 'Mitsubishi', 'Jeep', 'Land', 'Kia', 'Fiat',\n",
       "       'MG', 'Nissan', 'Force', 'New', 'Ambassador', 'Mini', 'OpelCorsa',\n",
       "       'Isuzu'], dtype=object)"
      ]
     },
     "execution_count": 11,
     "metadata": {},
     "output_type": "execute_result"
    }
   ],
   "source": [
    "df['Company'].unique()"
   ]
  },
  {
   "cell_type": "code",
   "execution_count": 12,
   "metadata": {},
   "outputs": [],
   "source": [
    "#Converting Price to Numerical value\n",
    "from sklearn.preprocessing import LabelEncoder\n",
    "le = LabelEncoder()\n",
    "le.fit(df['Price'].astype(str))\n",
    "df['Price'] = le.transform(df['Price'].astype(str))"
   ]
  },
  {
   "cell_type": "code",
   "execution_count": 13,
   "metadata": {},
   "outputs": [],
   "source": [
    "#Similarly converting Engine, Making year and kms covered to numerical datatype\n",
    "le.fit(df['Engine'].astype(str))\n",
    "df['Engine'] = le.transform(df['Engine'].astype(str))\n",
    "le.fit(df['Making Year'].astype(str))\n",
    "df['Making Year'] = le.transform(df['Making Year'].astype(str))\n",
    "le.fit(df['Kms'].astype(str))\n",
    "df['Kms'] = le.transform(df['Kms'].astype(str))"
   ]
  },
  {
   "cell_type": "code",
   "execution_count": 14,
   "metadata": {},
   "outputs": [
    {
     "name": "stdout",
     "output_type": "stream",
     "text": [
      "<class 'pandas.core.frame.DataFrame'>\n",
      "Int64Index: 5093 entries, 0 to 1625\n",
      "Data columns (total 8 columns):\n",
      " #   Column         Non-Null Count  Dtype \n",
      "---  ------         --------------  ----- \n",
      " 0   Making Year    5093 non-null   int32 \n",
      " 1   Fuel_Type      5093 non-null   object\n",
      " 2   Kms            5093 non-null   int32 \n",
      " 3   Engine         5093 non-null   int32 \n",
      " 4   No. of owners  5093 non-null   object\n",
      " 5   Transmission   5093 non-null   object\n",
      " 6   Price          5093 non-null   int32 \n",
      " 7   Company        5093 non-null   object\n",
      "dtypes: int32(4), object(4)\n",
      "memory usage: 278.5+ KB\n"
     ]
    }
   ],
   "source": [
    "df.info()"
   ]
  },
  {
   "cell_type": "markdown",
   "metadata": {},
   "source": [
    "### EDA"
   ]
  },
  {
   "cell_type": "code",
   "execution_count": 15,
   "metadata": {},
   "outputs": [
    {
     "data": {
      "image/png": "[encoded data removed]",
      "text/plain": [
       "<Figure size 432x288 with 1 Axes>"
      ]
     },
     "metadata": {
      "needs_background": "light"
     },
     "output_type": "display_data"
    }
   ],
   "source": [
    "data = pd.DataFrame(df.groupby(['Company'])['Price'].mean().sort_values(ascending = False))\n",
    "data.plot.bar()\n",
    "plt.title('Company vs Price')\n",
    "plt.show()"
   ]
  },
  {
   "cell_type": "markdown",
   "metadata": {},
   "source": [
    "#### Ambassador is having high price followed by Volkswagen and Honda"
   ]
  },
  {
   "cell_type": "code",
   "execution_count": 16,
   "metadata": {},
   "outputs": [
    {
     "data": {
      "image/png": "[encoded data removed]",
      "text/plain": [
       "<Figure size 432x288 with 1 Axes>"
      ]
     },
     "metadata": {
      "needs_background": "light"
     },
     "output_type": "display_data"
    }
   ],
   "source": [
    "data1 = pd.DataFrame(df.groupby(['Making Year'])['Price'].mean().sort_values(ascending = False))\n",
    "data1.plot.bar()\n",
    "plt.title('Year vs Price')\n",
    "plt.show()"
   ]
  },
  {
   "cell_type": "code",
   "execution_count": 17,
   "metadata": {},
   "outputs": [
    {
     "data": {
      "image/png": "[encoded data removed]",
      "text/plain": [
       "<Figure size 432x288 with 1 Axes>"
      ]
     },
     "metadata": {
      "needs_background": "light"
     },
     "output_type": "display_data"
    }
   ],
   "source": [
    "data2 = pd.DataFrame(df.groupby(['Fuel_Type'])['Price'].mean().sort_values(ascending = False))\n",
    "data2.plot.bar()\n",
    "plt.title('Fuel Type vs Price')\n",
    "plt.show()"
   ]
  },
  {
   "cell_type": "markdown",
   "metadata": {},
   "source": [
    "#### Electric cars have more price followed by Diesel and petrol"
   ]
  },
  {
   "cell_type": "code",
   "execution_count": 18,
   "metadata": {},
   "outputs": [
    {
     "data": {
      "image/png": "[encoded data removed]",
      "text/plain": [
       "<Figure size 432x288 with 1 Axes>"
      ]
     },
     "metadata": {
      "needs_background": "light"
     },
     "output_type": "display_data"
    }
   ],
   "source": [
    "data = pd.DataFrame(df.groupby(['Transmission'])['Price'].mean().sort_values(ascending = False))\n",
    "data.plot.bar()\n",
    "plt.title('Transmission vs Price')\n",
    "plt.show()"
   ]
  },
  {
   "cell_type": "markdown",
   "metadata": {},
   "source": [
    "#### There is not much price difference between Manual and Automatic cars"
   ]
  },
  {
   "cell_type": "code",
   "execution_count": 19,
   "metadata": {},
   "outputs": [
    {
     "data": {
      "image/png": "[encoded data removed]",
      "text/plain": [
       "<Figure size 432x288 with 1 Axes>"
      ]
     },
     "metadata": {
      "needs_background": "light"
     },
     "output_type": "display_data"
    }
   ],
   "source": [
    "data = pd.DataFrame(df.groupby(['No. of owners'])['Price'].mean().sort_values(ascending = False))\n",
    "data.plot.bar()\n",
    "plt.title('Number of Owners vs Price')\n",
    "plt.show()"
   ]
  },
  {
   "cell_type": "markdown",
   "metadata": {},
   "source": [
    "#### Test Drive cars have more price followed by first owner"
   ]
  },
  {
   "cell_type": "code",
   "execution_count": 20,
   "metadata": {},
   "outputs": [
    {
     "data": {
      "image/png": "[encoded data removed]",
      "text/plain": [
       "<Figure size 432x288 with 1 Axes>"
      ]
     },
     "metadata": {
      "needs_background": "light"
     },
     "output_type": "display_data"
    }
   ],
   "source": [
    "data = pd.DataFrame(df.groupby(['Engine'])['Price'].mean().sort_values(ascending = False))\n",
    "data.plot.bar()\n",
    "plt.title('Engine vs Price')\n",
    "plt.show()"
   ]
  },
  {
   "cell_type": "code",
   "execution_count": 21,
   "metadata": {},
   "outputs": [
    {
     "data": {
      "image/png": "[encoded data removed]",
      "text/plain": [
       "<Figure size 432x288 with 1 Axes>"
      ]
     },
     "metadata": {
      "needs_background": "light"
     },
     "output_type": "display_data"
    }
   ],
   "source": [
    "data = pd.DataFrame(df.groupby(['Kms'])['Price'].mean().sort_values(ascending = False))\n",
    "data.plot.bar()\n",
    "plt.title('Kms vs Price')\n",
    "plt.show()"
   ]
  },
  {
   "cell_type": "code",
   "execution_count": 22,
   "metadata": {},
   "outputs": [
    {
     "data": {
      "text/plain": [
       "['Fuel_Type', 'No. of owners', 'Transmission', 'Company']"
      ]
     },
     "execution_count": 22,
     "metadata": {},
     "output_type": "execute_result"
    }
   ],
   "source": [
    "#Seperating categorical columns and numerical columns\n",
    "cat_col = [column for column in df.columns if df[column].dtype=='object']\n",
    "cat_col"
   ]
  },
  {
   "cell_type": "code",
   "execution_count": 23,
   "metadata": {},
   "outputs": [
    {
     "data": {
      "text/plain": [
       "['Making Year', 'Kms', 'Engine', 'Price']"
      ]
     },
     "execution_count": 23,
     "metadata": {},
     "output_type": "execute_result"
    }
   ],
   "source": [
    "cont_col = [column for column in df.columns if df[column].dtype!='object']\n",
    "cont_col"
   ]
  },
  {
   "cell_type": "markdown",
   "metadata": {},
   "source": [
    "#### Applying Onehot encoding technique for Company"
   ]
  },
  {
   "cell_type": "code",
   "execution_count": 24,
   "metadata": {},
   "outputs": [],
   "source": [
    "categorical = df[cat_col]"
   ]
  },
  {
   "cell_type": "code",
   "execution_count": 25,
   "metadata": {},
   "outputs": [],
   "source": [
    "Company=pd.get_dummies(categorical[['Fuel_Type']],drop_first=True)"
   ]
  },
  {
   "cell_type": "markdown",
   "metadata": {},
   "source": [
    "#### Using Label Encoding techniques for other columns"
   ]
  },
  {
   "cell_type": "code",
   "execution_count": 26,
   "metadata": {},
   "outputs": [],
   "source": [
    "lab_enc = LabelEncoder()\n",
    "for i in ['Company','No. of owners','Transmission']:\n",
    "    categorical[i]=lab_enc.fit_transform(categorical[i])"
   ]
  },
  {
   "cell_type": "markdown",
   "metadata": {},
   "source": [
    "#### Concatenating altogether"
   ]
  },
  {
   "cell_type": "code",
   "execution_count": 27,
   "metadata": {},
   "outputs": [
    {
     "data": {
      "text/html": [
       "<div>\n",
       "<style scoped>\n",
       "    .dataframe tbody tr th:only-of-type {\n",
       "        vertical-align: middle;\n",
       "    }\n",
       "\n",
       "    .dataframe tbody tr th {\n",
       "        vertical-align: top;\n",
       "    }\n",
       "\n",
       "    .dataframe thead th {\n",
       "        text-align: right;\n",
       "    }\n",
       "</style>\n",
       "<table border=\"1\" class=\"dataframe\">\n",
       "  <thead>\n",
       "    <tr style=\"text-align: right;\">\n",
       "      <th></th>\n",
       "      <th>Fuel_Type</th>\n",
       "      <th>No. of owners</th>\n",
       "      <th>Transmission</th>\n",
       "      <th>Company</th>\n",
       "      <th>Fuel_Type_Diesel</th>\n",
       "      <th>Fuel_Type_Electric</th>\n",
       "      <th>Fuel_Type_LPG</th>\n",
       "      <th>Fuel_Type_Petrol</th>\n",
       "      <th>Making Year</th>\n",
       "      <th>Kms</th>\n",
       "      <th>Engine</th>\n",
       "      <th>Price</th>\n",
       "    </tr>\n",
       "  </thead>\n",
       "  <tbody>\n",
       "    <tr>\n",
       "      <th>0</th>\n",
       "      <td>Petrol</td>\n",
       "      <td>0</td>\n",
       "      <td>0</td>\n",
       "      <td>15</td>\n",
       "      <td>0</td>\n",
       "      <td>0</td>\n",
       "      <td>0</td>\n",
       "      <td>1</td>\n",
       "      <td>21</td>\n",
       "      <td>982</td>\n",
       "      <td>90</td>\n",
       "      <td>586</td>\n",
       "    </tr>\n",
       "    <tr>\n",
       "      <th>1</th>\n",
       "      <td>Diesel</td>\n",
       "      <td>4</td>\n",
       "      <td>0</td>\n",
       "      <td>1</td>\n",
       "      <td>1</td>\n",
       "      <td>0</td>\n",
       "      <td>0</td>\n",
       "      <td>0</td>\n",
       "      <td>16</td>\n",
       "      <td>937</td>\n",
       "      <td>58</td>\n",
       "      <td>109</td>\n",
       "    </tr>\n",
       "    <tr>\n",
       "      <th>2</th>\n",
       "      <td>Diesel</td>\n",
       "      <td>2</td>\n",
       "      <td>0</td>\n",
       "      <td>1</td>\n",
       "      <td>1</td>\n",
       "      <td>0</td>\n",
       "      <td>0</td>\n",
       "      <td>0</td>\n",
       "      <td>15</td>\n",
       "      <td>1058</td>\n",
       "      <td>58</td>\n",
       "      <td>109</td>\n",
       "    </tr>\n",
       "  </tbody>\n",
       "</table>\n",
       "</div>"
      ],
      "text/plain": [
       "  Fuel_Type  No. of owners  Transmission  Company  Fuel_Type_Diesel  \\\n",
       "0    Petrol              0             0       15                 0   \n",
       "1    Diesel              4             0        1                 1   \n",
       "2    Diesel              2             0        1                 1   \n",
       "\n",
       "   Fuel_Type_Electric  Fuel_Type_LPG  Fuel_Type_Petrol  Making Year   Kms  \\\n",
       "0                   0              0                 1           21   982   \n",
       "1                   0              0                 0           16   937   \n",
       "2                   0              0                 0           15  1058   \n",
       "\n",
       "   Engine  Price  \n",
       "0      90    586  \n",
       "1      58    109  \n",
       "2      58    109  "
      ]
     },
     "execution_count": 27,
     "metadata": {},
     "output_type": "execute_result"
    }
   ],
   "source": [
    "df = pd.concat([categorical,Company,df[cont_col]],axis=1)\n",
    "df.head(3)"
   ]
  },
  {
   "cell_type": "markdown",
   "metadata": {},
   "source": [
    "#### Dropping Company as i have applied Onehot encoding technique in that"
   ]
  },
  {
   "cell_type": "code",
   "execution_count": 28,
   "metadata": {},
   "outputs": [
    {
     "data": {
      "text/html": [
       "<div>\n",
       "<style scoped>\n",
       "    .dataframe tbody tr th:only-of-type {\n",
       "        vertical-align: middle;\n",
       "    }\n",
       "\n",
       "    .dataframe tbody tr th {\n",
       "        vertical-align: top;\n",
       "    }\n",
       "\n",
       "    .dataframe thead th {\n",
       "        text-align: right;\n",
       "    }\n",
       "</style>\n",
       "<table border=\"1\" class=\"dataframe\">\n",
       "  <thead>\n",
       "    <tr style=\"text-align: right;\">\n",
       "      <th></th>\n",
       "      <th>Fuel_Type</th>\n",
       "      <th>No. of owners</th>\n",
       "      <th>Transmission</th>\n",
       "      <th>Fuel_Type_Diesel</th>\n",
       "      <th>Fuel_Type_Electric</th>\n",
       "      <th>Fuel_Type_LPG</th>\n",
       "      <th>Fuel_Type_Petrol</th>\n",
       "      <th>Making Year</th>\n",
       "      <th>Kms</th>\n",
       "      <th>Engine</th>\n",
       "      <th>Price</th>\n",
       "    </tr>\n",
       "  </thead>\n",
       "  <tbody>\n",
       "    <tr>\n",
       "      <th>0</th>\n",
       "      <td>Petrol</td>\n",
       "      <td>0</td>\n",
       "      <td>0</td>\n",
       "      <td>0</td>\n",
       "      <td>0</td>\n",
       "      <td>0</td>\n",
       "      <td>1</td>\n",
       "      <td>21</td>\n",
       "      <td>982</td>\n",
       "      <td>90</td>\n",
       "      <td>586</td>\n",
       "    </tr>\n",
       "    <tr>\n",
       "      <th>1</th>\n",
       "      <td>Diesel</td>\n",
       "      <td>4</td>\n",
       "      <td>0</td>\n",
       "      <td>1</td>\n",
       "      <td>0</td>\n",
       "      <td>0</td>\n",
       "      <td>0</td>\n",
       "      <td>16</td>\n",
       "      <td>937</td>\n",
       "      <td>58</td>\n",
       "      <td>109</td>\n",
       "    </tr>\n",
       "    <tr>\n",
       "      <th>2</th>\n",
       "      <td>Diesel</td>\n",
       "      <td>2</td>\n",
       "      <td>0</td>\n",
       "      <td>1</td>\n",
       "      <td>0</td>\n",
       "      <td>0</td>\n",
       "      <td>0</td>\n",
       "      <td>15</td>\n",
       "      <td>1058</td>\n",
       "      <td>58</td>\n",
       "      <td>109</td>\n",
       "    </tr>\n",
       "  </tbody>\n",
       "</table>\n",
       "</div>"
      ],
      "text/plain": [
       "  Fuel_Type  No. of owners  Transmission  Fuel_Type_Diesel  \\\n",
       "0    Petrol              0             0                 0   \n",
       "1    Diesel              4             0                 1   \n",
       "2    Diesel              2             0                 1   \n",
       "\n",
       "   Fuel_Type_Electric  Fuel_Type_LPG  Fuel_Type_Petrol  Making Year   Kms  \\\n",
       "0                   0              0                 1           21   982   \n",
       "1                   0              0                 0           16   937   \n",
       "2                   0              0                 0           15  1058   \n",
       "\n",
       "   Engine  Price  \n",
       "0      90    586  \n",
       "1      58    109  \n",
       "2      58    109  "
      ]
     },
     "execution_count": 28,
     "metadata": {},
     "output_type": "execute_result"
    }
   ],
   "source": [
    "df = df.drop('Company',axis=1)\n",
    "df.head(3)"
   ]
  },
  {
   "cell_type": "code",
   "execution_count": 28,
   "metadata": {},
   "outputs": [],
   "source": [
    "df = df.drop('Fuel_Type',axis=1)"
   ]
  },
  {
   "cell_type": "code",
   "execution_count": 29,
   "metadata": {},
   "outputs": [
    {
     "data": {
      "text/plain": [
       "(5093, 11)"
      ]
     },
     "execution_count": 29,
     "metadata": {},
     "output_type": "execute_result"
    }
   ],
   "source": [
    "df.shape"
   ]
  },
  {
   "cell_type": "markdown",
   "metadata": {},
   "source": [
    "#### Checking for the Price distribution"
   ]
  },
  {
   "cell_type": "code",
   "execution_count": 30,
   "metadata": {},
   "outputs": [
    {
     "data": {
      "text/plain": [
       "<AxesSubplot:title={'center':'Car Price Distribution Plot'}, xlabel='Price', ylabel='Density'>"
      ]
     },
     "execution_count": 30,
     "metadata": {},
     "output_type": "execute_result"
    },
    {
     "data": {
      "image/png": "[encoded data removed]",
      "text/plain": [
       "<Figure size 432x288 with 1 Axes>"
      ]
     },
     "metadata": {
      "needs_background": "light"
     },
     "output_type": "display_data"
    }
   ],
   "source": [
    "plt.subplot(1,2,1)\n",
    "plt.title('Car Price Distribution Plot')\n",
    "sns.distplot(df.Price)"
   ]
  },
  {
   "cell_type": "markdown",
   "metadata": {},
   "source": [
    "#### The distribution doesn't seems to be like a normal one"
   ]
  },
  {
   "cell_type": "code",
   "execution_count": 31,
   "metadata": {},
   "outputs": [
    {
     "data": {
      "text/plain": [
       "<AxesSubplot:title={'center':'Car Price Spread'}, ylabel='Price'>"
      ]
     },
     "execution_count": 31,
     "metadata": {},
     "output_type": "execute_result"
    },
    {
     "data": {
      "image/png": "[encoded data removed]",
      "text/plain": [
       "<Figure size 432x288 with 1 Axes>"
      ]
     },
     "metadata": {
      "needs_background": "light"
     },
     "output_type": "display_data"
    }
   ],
   "source": [
    "plt.subplot(1,2,2)\n",
    "plt.title('Car Price Spread')\n",
    "sns.boxplot(y=df.Price)"
   ]
  },
  {
   "cell_type": "markdown",
   "metadata": {},
   "source": [
    "#### There are no outliers"
   ]
  },
  {
   "cell_type": "code",
   "execution_count": 32,
   "metadata": {},
   "outputs": [
    {
     "name": "stdout",
     "output_type": "stream",
     "text": [
      "<class 'pandas.core.frame.DataFrame'>\n",
      "Int64Index: 5093 entries, 0 to 1625\n",
      "Data columns (total 11 columns):\n",
      " #   Column              Non-Null Count  Dtype\n",
      "---  ------              --------------  -----\n",
      " 0   No. of owners       5093 non-null   int32\n",
      " 1   Transmission        5093 non-null   int32\n",
      " 2   Company             5093 non-null   int32\n",
      " 3   Fuel_Type_Diesel    5093 non-null   uint8\n",
      " 4   Fuel_Type_Electric  5093 non-null   uint8\n",
      " 5   Fuel_Type_LPG       5093 non-null   uint8\n",
      " 6   Fuel_Type_Petrol    5093 non-null   uint8\n",
      " 7   Making Year         5093 non-null   int32\n",
      " 8   Kms                 5093 non-null   int32\n",
      " 9   Engine              5093 non-null   int32\n",
      " 10  Price               5093 non-null   int32\n",
      "dtypes: int32(7), uint8(4)\n",
      "memory usage: 198.9 KB\n"
     ]
    }
   ],
   "source": [
    "df.info()"
   ]
  },
  {
   "cell_type": "markdown",
   "metadata": {},
   "source": [
    "#### Checking the correlation"
   ]
  },
  {
   "cell_type": "code",
   "execution_count": 33,
   "metadata": {},
   "outputs": [
    {
     "data": {
      "text/html": [
       "<div>\n",
       "<style scoped>\n",
       "    .dataframe tbody tr th:only-of-type {\n",
       "        vertical-align: middle;\n",
       "    }\n",
       "\n",
       "    .dataframe tbody tr th {\n",
       "        vertical-align: top;\n",
       "    }\n",
       "\n",
       "    .dataframe thead th {\n",
       "        text-align: right;\n",
       "    }\n",
       "</style>\n",
       "<table border=\"1\" class=\"dataframe\">\n",
       "  <thead>\n",
       "    <tr style=\"text-align: right;\">\n",
       "      <th></th>\n",
       "      <th>No. of owners</th>\n",
       "      <th>Transmission</th>\n",
       "      <th>Company</th>\n",
       "      <th>Fuel_Type_Diesel</th>\n",
       "      <th>Fuel_Type_Electric</th>\n",
       "      <th>Fuel_Type_LPG</th>\n",
       "      <th>Fuel_Type_Petrol</th>\n",
       "      <th>Making Year</th>\n",
       "      <th>Kms</th>\n",
       "      <th>Engine</th>\n",
       "      <th>Price</th>\n",
       "    </tr>\n",
       "  </thead>\n",
       "  <tbody>\n",
       "    <tr>\n",
       "      <th>No. of owners</th>\n",
       "      <td>1.000000</td>\n",
       "      <td>-0.017593</td>\n",
       "      <td>-0.052185</td>\n",
       "      <td>-0.040835</td>\n",
       "      <td>-0.006668</td>\n",
       "      <td>0.011449</td>\n",
       "      <td>0.032317</td>\n",
       "      <td>-0.336954</td>\n",
       "      <td>0.062579</td>\n",
       "      <td>0.027668</td>\n",
       "      <td>-0.159384</td>\n",
       "    </tr>\n",
       "    <tr>\n",
       "      <th>Transmission</th>\n",
       "      <td>-0.017593</td>\n",
       "      <td>1.000000</td>\n",
       "      <td>0.099617</td>\n",
       "      <td>-0.073875</td>\n",
       "      <td>-0.022223</td>\n",
       "      <td>0.030645</td>\n",
       "      <td>0.063900</td>\n",
       "      <td>-0.157345</td>\n",
       "      <td>0.025700</td>\n",
       "      <td>-0.175254</td>\n",
       "      <td>0.087231</td>\n",
       "    </tr>\n",
       "    <tr>\n",
       "      <th>Company</th>\n",
       "      <td>-0.052185</td>\n",
       "      <td>0.099617</td>\n",
       "      <td>1.000000</td>\n",
       "      <td>0.096160</td>\n",
       "      <td>0.002310</td>\n",
       "      <td>-0.008786</td>\n",
       "      <td>-0.096794</td>\n",
       "      <td>0.016102</td>\n",
       "      <td>-0.027272</td>\n",
       "      <td>0.097405</td>\n",
       "      <td>0.044565</td>\n",
       "    </tr>\n",
       "    <tr>\n",
       "      <th>Fuel_Type_Diesel</th>\n",
       "      <td>-0.040835</td>\n",
       "      <td>-0.073875</td>\n",
       "      <td>0.096160</td>\n",
       "      <td>1.000000</td>\n",
       "      <td>-0.014682</td>\n",
       "      <td>-0.050914</td>\n",
       "      <td>-0.982818</td>\n",
       "      <td>0.077285</td>\n",
       "      <td>0.089302</td>\n",
       "      <td>0.003806</td>\n",
       "      <td>0.052371</td>\n",
       "    </tr>\n",
       "    <tr>\n",
       "      <th>Fuel_Type_Electric</th>\n",
       "      <td>-0.006668</td>\n",
       "      <td>-0.022223</td>\n",
       "      <td>0.002310</td>\n",
       "      <td>-0.014682</td>\n",
       "      <td>1.000000</td>\n",
       "      <td>-0.000681</td>\n",
       "      <td>-0.013146</td>\n",
       "      <td>0.013616</td>\n",
       "      <td>-0.004873</td>\n",
       "      <td>0.027232</td>\n",
       "      <td>0.017275</td>\n",
       "    </tr>\n",
       "    <tr>\n",
       "      <th>Fuel_Type_LPG</th>\n",
       "      <td>0.011449</td>\n",
       "      <td>0.030645</td>\n",
       "      <td>-0.008786</td>\n",
       "      <td>-0.050914</td>\n",
       "      <td>-0.000681</td>\n",
       "      <td>1.000000</td>\n",
       "      <td>-0.045589</td>\n",
       "      <td>-0.074548</td>\n",
       "      <td>0.018663</td>\n",
       "      <td>-0.001907</td>\n",
       "      <td>-0.056055</td>\n",
       "    </tr>\n",
       "    <tr>\n",
       "      <th>Fuel_Type_Petrol</th>\n",
       "      <td>0.032317</td>\n",
       "      <td>0.063900</td>\n",
       "      <td>-0.096794</td>\n",
       "      <td>-0.982818</td>\n",
       "      <td>-0.013146</td>\n",
       "      <td>-0.045589</td>\n",
       "      <td>1.000000</td>\n",
       "      <td>-0.069121</td>\n",
       "      <td>-0.092343</td>\n",
       "      <td>-0.014241</td>\n",
       "      <td>-0.041327</td>\n",
       "    </tr>\n",
       "    <tr>\n",
       "      <th>Making Year</th>\n",
       "      <td>-0.336954</td>\n",
       "      <td>-0.157345</td>\n",
       "      <td>0.016102</td>\n",
       "      <td>0.077285</td>\n",
       "      <td>0.013616</td>\n",
       "      <td>-0.074548</td>\n",
       "      <td>-0.069121</td>\n",
       "      <td>1.000000</td>\n",
       "      <td>-0.145974</td>\n",
       "      <td>-0.057336</td>\n",
       "      <td>0.298158</td>\n",
       "    </tr>\n",
       "    <tr>\n",
       "      <th>Kms</th>\n",
       "      <td>0.062579</td>\n",
       "      <td>0.025700</td>\n",
       "      <td>-0.027272</td>\n",
       "      <td>0.089302</td>\n",
       "      <td>-0.004873</td>\n",
       "      <td>0.018663</td>\n",
       "      <td>-0.092343</td>\n",
       "      <td>-0.145974</td>\n",
       "      <td>1.000000</td>\n",
       "      <td>-0.052449</td>\n",
       "      <td>-0.043813</td>\n",
       "    </tr>\n",
       "    <tr>\n",
       "      <th>Engine</th>\n",
       "      <td>0.027668</td>\n",
       "      <td>-0.175254</td>\n",
       "      <td>0.097405</td>\n",
       "      <td>0.003806</td>\n",
       "      <td>0.027232</td>\n",
       "      <td>-0.001907</td>\n",
       "      <td>-0.014241</td>\n",
       "      <td>-0.057336</td>\n",
       "      <td>-0.052449</td>\n",
       "      <td>1.000000</td>\n",
       "      <td>-0.191370</td>\n",
       "    </tr>\n",
       "    <tr>\n",
       "      <th>Price</th>\n",
       "      <td>-0.159384</td>\n",
       "      <td>0.087231</td>\n",
       "      <td>0.044565</td>\n",
       "      <td>0.052371</td>\n",
       "      <td>0.017275</td>\n",
       "      <td>-0.056055</td>\n",
       "      <td>-0.041327</td>\n",
       "      <td>0.298158</td>\n",
       "      <td>-0.043813</td>\n",
       "      <td>-0.191370</td>\n",
       "      <td>1.000000</td>\n",
       "    </tr>\n",
       "  </tbody>\n",
       "</table>\n",
       "</div>"
      ],
      "text/plain": [
       "                    No. of owners  Transmission   Company  Fuel_Type_Diesel  \\\n",
       "No. of owners            1.000000     -0.017593 -0.052185         -0.040835   \n",
       "Transmission            -0.017593      1.000000  0.099617         -0.073875   \n",
       "Company                 -0.052185      0.099617  1.000000          0.096160   \n",
       "Fuel_Type_Diesel        -0.040835     -0.073875  0.096160          1.000000   \n",
       "Fuel_Type_Electric      -0.006668     -0.022223  0.002310         -0.014682   \n",
       "Fuel_Type_LPG            0.011449      0.030645 -0.008786         -0.050914   \n",
       "Fuel_Type_Petrol         0.032317      0.063900 -0.096794         -0.982818   \n",
       "Making Year             -0.336954     -0.157345  0.016102          0.077285   \n",
       "Kms                      0.062579      0.025700 -0.027272          0.089302   \n",
       "Engine                   0.027668     -0.175254  0.097405          0.003806   \n",
       "Price                   -0.159384      0.087231  0.044565          0.052371   \n",
       "\n",
       "                    Fuel_Type_Electric  Fuel_Type_LPG  Fuel_Type_Petrol  \\\n",
       "No. of owners                -0.006668       0.011449          0.032317   \n",
       "Transmission                 -0.022223       0.030645          0.063900   \n",
       "Company                       0.002310      -0.008786         -0.096794   \n",
       "Fuel_Type_Diesel             -0.014682      -0.050914         -0.982818   \n",
       "Fuel_Type_Electric            1.000000      -0.000681         -0.013146   \n",
       "Fuel_Type_LPG                -0.000681       1.000000         -0.045589   \n",
       "Fuel_Type_Petrol             -0.013146      -0.045589          1.000000   \n",
       "Making Year                   0.013616      -0.074548         -0.069121   \n",
       "Kms                          -0.004873       0.018663         -0.092343   \n",
       "Engine                        0.027232      -0.001907         -0.014241   \n",
       "Price                         0.017275      -0.056055         -0.041327   \n",
       "\n",
       "                    Making Year       Kms    Engine     Price  \n",
       "No. of owners         -0.336954  0.062579  0.027668 -0.159384  \n",
       "Transmission          -0.157345  0.025700 -0.175254  0.087231  \n",
       "Company                0.016102 -0.027272  0.097405  0.044565  \n",
       "Fuel_Type_Diesel       0.077285  0.089302  0.003806  0.052371  \n",
       "Fuel_Type_Electric     0.013616 -0.004873  0.027232  0.017275  \n",
       "Fuel_Type_LPG         -0.074548  0.018663 -0.001907 -0.056055  \n",
       "Fuel_Type_Petrol      -0.069121 -0.092343 -0.014241 -0.041327  \n",
       "Making Year            1.000000 -0.145974 -0.057336  0.298158  \n",
       "Kms                   -0.145974  1.000000 -0.052449 -0.043813  \n",
       "Engine                -0.057336 -0.052449  1.000000 -0.191370  \n",
       "Price                  0.298158 -0.043813 -0.191370  1.000000  "
      ]
     },
     "execution_count": 33,
     "metadata": {},
     "output_type": "execute_result"
    }
   ],
   "source": [
    "df.corr()"
   ]
  },
  {
   "cell_type": "markdown",
   "metadata": {},
   "source": [
    "#### Making Year, Engine and No.of owners are highly correlated with our target variable"
   ]
  },
  {
   "cell_type": "markdown",
   "metadata": {},
   "source": [
    "#### Visualizing Correlation"
   ]
  },
  {
   "cell_type": "code",
   "execution_count": 34,
   "metadata": {},
   "outputs": [
    {
     "data": {
      "image/png": "[encoded data removed]",
      "text/plain": [
       "<Figure size 1440x1800 with 2 Axes>"
      ]
     },
     "metadata": {
      "needs_background": "light"
     },
     "output_type": "display_data"
    }
   ],
   "source": [
    "df_corr = df.corr().abs()\n",
    "plt.figure(figsize=(20,25))\n",
    "sns.heatmap(df_corr,vmin=-1,vmax=1,annot=True,square = True,center=0,fmt='.2g',linewidth=.2)\n",
    "plt.tight_layout()"
   ]
  },
  {
   "cell_type": "markdown",
   "metadata": {},
   "source": [
    "#### Multicollinearity is not that prominent in the dataset"
   ]
  },
  {
   "cell_type": "markdown",
   "metadata": {},
   "source": [
    "#### Statistical Analysis"
   ]
  },
  {
   "cell_type": "code",
   "execution_count": 35,
   "metadata": {},
   "outputs": [
    {
     "data": {
      "text/html": [
       "<div>\n",
       "<style scoped>\n",
       "    .dataframe tbody tr th:only-of-type {\n",
       "        vertical-align: middle;\n",
       "    }\n",
       "\n",
       "    .dataframe tbody tr th {\n",
       "        vertical-align: top;\n",
       "    }\n",
       "\n",
       "    .dataframe thead th {\n",
       "        text-align: right;\n",
       "    }\n",
       "</style>\n",
       "<table border=\"1\" class=\"dataframe\">\n",
       "  <thead>\n",
       "    <tr style=\"text-align: right;\">\n",
       "      <th></th>\n",
       "      <th>No. of owners</th>\n",
       "      <th>Transmission</th>\n",
       "      <th>Company</th>\n",
       "      <th>Fuel_Type_Diesel</th>\n",
       "      <th>Fuel_Type_Electric</th>\n",
       "      <th>Fuel_Type_LPG</th>\n",
       "      <th>Fuel_Type_Petrol</th>\n",
       "      <th>Making Year</th>\n",
       "      <th>Kms</th>\n",
       "      <th>Engine</th>\n",
       "      <th>Price</th>\n",
       "    </tr>\n",
       "  </thead>\n",
       "  <tbody>\n",
       "    <tr>\n",
       "      <th>count</th>\n",
       "      <td>5093.000000</td>\n",
       "      <td>5093.000000</td>\n",
       "      <td>5093.000000</td>\n",
       "      <td>5093.000000</td>\n",
       "      <td>5093.000000</td>\n",
       "      <td>5093.000000</td>\n",
       "      <td>5093.000000</td>\n",
       "      <td>5093.000000</td>\n",
       "      <td>5093.000000</td>\n",
       "      <td>5093.000000</td>\n",
       "      <td>5093.000000</td>\n",
       "    </tr>\n",
       "    <tr>\n",
       "      <th>mean</th>\n",
       "      <td>0.445906</td>\n",
       "      <td>0.715492</td>\n",
       "      <td>15.569213</td>\n",
       "      <td>0.523267</td>\n",
       "      <td>0.000196</td>\n",
       "      <td>0.002356</td>\n",
       "      <td>0.468093</td>\n",
       "      <td>17.445317</td>\n",
       "      <td>697.623208</td>\n",
       "      <td>48.338504</td>\n",
       "      <td>387.092873</td>\n",
       "    </tr>\n",
       "    <tr>\n",
       "      <th>std</th>\n",
       "      <td>0.937181</td>\n",
       "      <td>0.451224</td>\n",
       "      <td>8.680332</td>\n",
       "      <td>0.499507</td>\n",
       "      <td>0.014012</td>\n",
       "      <td>0.048488</td>\n",
       "      <td>0.499030</td>\n",
       "      <td>3.658809</td>\n",
       "      <td>346.913515</td>\n",
       "      <td>40.483664</td>\n",
       "      <td>192.204259</td>\n",
       "    </tr>\n",
       "    <tr>\n",
       "      <th>min</th>\n",
       "      <td>0.000000</td>\n",
       "      <td>0.000000</td>\n",
       "      <td>0.000000</td>\n",
       "      <td>0.000000</td>\n",
       "      <td>0.000000</td>\n",
       "      <td>0.000000</td>\n",
       "      <td>0.000000</td>\n",
       "      <td>0.000000</td>\n",
       "      <td>0.000000</td>\n",
       "      <td>0.000000</td>\n",
       "      <td>0.000000</td>\n",
       "    </tr>\n",
       "    <tr>\n",
       "      <th>25%</th>\n",
       "      <td>0.000000</td>\n",
       "      <td>0.000000</td>\n",
       "      <td>9.000000</td>\n",
       "      <td>0.000000</td>\n",
       "      <td>0.000000</td>\n",
       "      <td>0.000000</td>\n",
       "      <td>0.000000</td>\n",
       "      <td>15.000000</td>\n",
       "      <td>421.000000</td>\n",
       "      <td>13.000000</td>\n",
       "      <td>236.000000</td>\n",
       "    </tr>\n",
       "    <tr>\n",
       "      <th>50%</th>\n",
       "      <td>0.000000</td>\n",
       "      <td>1.000000</td>\n",
       "      <td>17.000000</td>\n",
       "      <td>1.000000</td>\n",
       "      <td>0.000000</td>\n",
       "      <td>0.000000</td>\n",
       "      <td>0.000000</td>\n",
       "      <td>18.000000</td>\n",
       "      <td>750.000000</td>\n",
       "      <td>37.000000</td>\n",
       "      <td>413.000000</td>\n",
       "    </tr>\n",
       "    <tr>\n",
       "      <th>75%</th>\n",
       "      <td>0.000000</td>\n",
       "      <td>1.000000</td>\n",
       "      <td>19.000000</td>\n",
       "      <td>1.000000</td>\n",
       "      <td>0.000000</td>\n",
       "      <td>0.000000</td>\n",
       "      <td>1.000000</td>\n",
       "      <td>20.000000</td>\n",
       "      <td>957.000000</td>\n",
       "      <td>71.000000</td>\n",
       "      <td>550.000000</td>\n",
       "    </tr>\n",
       "    <tr>\n",
       "      <th>max</th>\n",
       "      <td>4.000000</td>\n",
       "      <td>1.000000</td>\n",
       "      <td>32.000000</td>\n",
       "      <td>1.000000</td>\n",
       "      <td>1.000000</td>\n",
       "      <td>1.000000</td>\n",
       "      <td>1.000000</td>\n",
       "      <td>24.000000</td>\n",
       "      <td>1302.000000</td>\n",
       "      <td>141.000000</td>\n",
       "      <td>713.000000</td>\n",
       "    </tr>\n",
       "  </tbody>\n",
       "</table>\n",
       "</div>"
      ],
      "text/plain": [
       "       No. of owners  Transmission      Company  Fuel_Type_Diesel  \\\n",
       "count    5093.000000   5093.000000  5093.000000       5093.000000   \n",
       "mean        0.445906      0.715492    15.569213          0.523267   \n",
       "std         0.937181      0.451224     8.680332          0.499507   \n",
       "min         0.000000      0.000000     0.000000          0.000000   \n",
       "25%         0.000000      0.000000     9.000000          0.000000   \n",
       "50%         0.000000      1.000000    17.000000          1.000000   \n",
       "75%         0.000000      1.000000    19.000000          1.000000   \n",
       "max         4.000000      1.000000    32.000000          1.000000   \n",
       "\n",
       "       Fuel_Type_Electric  Fuel_Type_LPG  Fuel_Type_Petrol  Making Year  \\\n",
       "count         5093.000000    5093.000000       5093.000000  5093.000000   \n",
       "mean             0.000196       0.002356          0.468093    17.445317   \n",
       "std              0.014012       0.048488          0.499030     3.658809   \n",
       "min              0.000000       0.000000          0.000000     0.000000   \n",
       "25%              0.000000       0.000000          0.000000    15.000000   \n",
       "50%              0.000000       0.000000          0.000000    18.000000   \n",
       "75%              0.000000       0.000000          1.000000    20.000000   \n",
       "max              1.000000       1.000000          1.000000    24.000000   \n",
       "\n",
       "               Kms       Engine        Price  \n",
       "count  5093.000000  5093.000000  5093.000000  \n",
       "mean    697.623208    48.338504   387.092873  \n",
       "std     346.913515    40.483664   192.204259  \n",
       "min       0.000000     0.000000     0.000000  \n",
       "25%     421.000000    13.000000   236.000000  \n",
       "50%     750.000000    37.000000   413.000000  \n",
       "75%     957.000000    71.000000   550.000000  \n",
       "max    1302.000000   141.000000   713.000000  "
      ]
     },
     "execution_count": 35,
     "metadata": {},
     "output_type": "execute_result"
    }
   ],
   "source": [
    "df.describe()"
   ]
  },
  {
   "cell_type": "markdown",
   "metadata": {},
   "source": [
    "#### Checking for outliers by visualizing"
   ]
  },
  {
   "cell_type": "code",
   "execution_count": 36,
   "metadata": {},
   "outputs": [
    {
     "data": {
      "image/png": "[encoded data removed]",
      "text/plain": [
       "<Figure size 1800x1440 with 10 Axes>"
      ]
     },
     "metadata": {
      "needs_background": "light"
     },
     "output_type": "display_data"
    }
   ],
   "source": [
    "plt.figure(figsize=(25,20))\n",
    "gr = 1\n",
    "for column in df:\n",
    "    if gr<=10:\n",
    "        ax = plt.subplot(5,2,gr)\n",
    "        sns.boxplot(df[column],orient='v')\n",
    "        plt.xlabel(column,fontsize=15)\n",
    "    gr+=1\n",
    "plt.show()"
   ]
  },
  {
   "cell_type": "markdown",
   "metadata": {},
   "source": [
    "#### Outliers exists in the dataset"
   ]
  },
  {
   "cell_type": "code",
   "execution_count": 37,
   "metadata": {},
   "outputs": [
    {
     "data": {
      "text/plain": [
       "No. of owners          1.985012\n",
       "Transmission          -0.955518\n",
       "Company                0.340917\n",
       "Fuel_Type_Diesel      -0.093197\n",
       "Fuel_Type_Electric    71.365258\n",
       "Fuel_Type_LPG         20.534541\n",
       "Fuel_Type_Petrol       0.127924\n",
       "Making Year           -1.046335\n",
       "Kms                   -0.241188\n",
       "Engine                 0.904526\n",
       "Price                 -0.259592\n",
       "dtype: float64"
      ]
     },
     "execution_count": 37,
     "metadata": {},
     "output_type": "execute_result"
    }
   ],
   "source": [
    "df.skew()"
   ]
  },
  {
   "cell_type": "markdown",
   "metadata": {},
   "source": [
    "#### Dataset is skewed"
   ]
  },
  {
   "cell_type": "markdown",
   "metadata": {},
   "source": [
    "#### Removing Outliers by z-score method"
   ]
  },
  {
   "cell_type": "code",
   "execution_count": 38,
   "metadata": {},
   "outputs": [
    {
     "name": "stdout",
     "output_type": "stream",
     "text": [
      "Old shape :  (5093, 11)\n",
      "[[0.47584175 1.58582402 0.06558142 ... 0.81981446 1.02919506 1.03497529]\n",
      " [3.79269551 1.58582402 1.67858132 ... 0.69008639 0.23867516 1.4470032 ]\n",
      " [1.65842688 1.58582402 1.67858132 ... 1.03891074 0.23867516 1.4470032 ]\n",
      " ...\n",
      " [0.47584175 0.63058699 0.87208137 ... 0.95601859 0.30480728 0.66554033]\n",
      " [0.47584175 0.63058699 1.66263275 ... 1.72285559 0.72477098 1.48245988]\n",
      " [0.47584175 1.58582402 0.39527569 ... 0.15099422 0.18926766 0.07332957]]\n",
      "Row numbers :  [   1   21   49   52   58   76   80   80   81  106  156  216  270  321\n",
      "  345  352  377  387  426  431  449  513  555  564  570  593  624  630\n",
      "  635  638  801  891  943 1119 1134 1141 1192 1200 1320 1340 1382 1399\n",
      " 1400 1408 1420 1423 1425 1451 1460 1464 1492 1528 1529 1530 1546 1569\n",
      " 1573 1574 1575 1576 1577 1578 1579 1580 1580 1581 1581 1582 1583 1584\n",
      " 1585 1586 1587 1588 1589 1589 1590 1591 1592 1593 1594 1595 1595 1596\n",
      " 1657 1726 1956 1960 2085 2095 2130 2180 2187 2292 2486 2486 2504 2516\n",
      " 2537 2542 2544 2544 2547 2548 2556 2557 2565 2565 2566 2567 2567 2569\n",
      " 2570 2572 2710 2721 2724 2724 2727 2731 2748 2748 2750 2761 2765 2770\n",
      " 2846 2899 2924 2957 2973 3024 3081 3115 3219 3276 3282 3312 3335 3360\n",
      " 3379 3407 3410 3415 3459 3485 3505 3545 3596 3616 3636 3766 3944 3984\n",
      " 4244 4441 4461 4474 4495 4498 4499 4532 4540 4545 4551 4552 4561 4580\n",
      " 4586 4631 4679 4701 4818 4963 5001 5009]\n",
      "Column numbers :  [   1   21   49   52   58   76   80   80   81  106  156  216  270  321\n",
      "  345  352  377  387  426  431  449  513  555  564  570  593  624  630\n",
      "  635  638  801  891  943 1119 1134 1141 1192 1200 1320 1340 1382 1399\n",
      " 1400 1408 1420 1423 1425 1451 1460 1464 1492 1528 1529 1530 1546 1569\n",
      " 1573 1574 1575 1576 1577 1578 1579 1580 1580 1581 1581 1582 1583 1584\n",
      " 1585 1586 1587 1588 1589 1589 1590 1591 1592 1593 1594 1595 1595 1596\n",
      " 1657 1726 1956 1960 2085 2095 2130 2180 2187 2292 2486 2486 2504 2516\n",
      " 2537 2542 2544 2544 2547 2548 2556 2557 2565 2565 2566 2567 2567 2569\n",
      " 2570 2572 2710 2721 2724 2724 2727 2731 2748 2748 2750 2761 2765 2770\n",
      " 2846 2899 2924 2957 2973 3024 3081 3115 3219 3276 3282 3312 3335 3360\n",
      " 3379 3407 3410 3415 3459 3485 3505 3545 3596 3616 3636 3766 3944 3984\n",
      " 4244 4441 4461 4474 4495 4498 4499 4532 4540 4545 4551 4552 4561 4580\n",
      " 4586 4631 4679 4701 4818 4963 5001 5009]\n",
      "New shape :  (4820, 11)\n"
     ]
    }
   ],
   "source": [
    "from scipy.stats import zscore\n",
    "z = np.abs(zscore(df))\n",
    "print(\"Old shape : \",z.shape)\n",
    "print(z)\n",
    "print(\"Row numbers : \",np.where(z>3)[0])\n",
    "print(\"Column numbers : \",np.where(z>3)[0])\n",
    "index = np.where(z>3)[0]\n",
    "df1 = df.drop(df.index[index])\n",
    "print(\"New shape : \",df1.shape)"
   ]
  },
  {
   "cell_type": "code",
   "execution_count": 39,
   "metadata": {},
   "outputs": [
    {
     "name": "stdout",
     "output_type": "stream",
     "text": [
      "While removing outliers we loss  5.360298448851364 % of data\n"
     ]
    }
   ],
   "source": [
    "loss = (5093-4820)/5093*100\n",
    "print(\"While removing outliers we loss \",loss,\"% of data\")"
   ]
  },
  {
   "cell_type": "markdown",
   "metadata": {},
   "source": [
    "#### Data loss is acceptable"
   ]
  },
  {
   "cell_type": "markdown",
   "metadata": {},
   "source": [
    "#### Splitting the dataset into train and test"
   ]
  },
  {
   "cell_type": "code",
   "execution_count": 40,
   "metadata": {},
   "outputs": [],
   "source": [
    "x = df1.drop(\"Price\",axis=1)\n",
    "y = df1['Price']"
   ]
  },
  {
   "cell_type": "code",
   "execution_count": 41,
   "metadata": {},
   "outputs": [
    {
     "data": {
      "text/plain": [
       "array([[-0.46832082, -1.58205783,  0.05107972, ...,  1.05646698,\n",
       "         0.82596936,  1.08473478],\n",
       "       [ 2.13610443, -1.58205783, -2.15442969, ..., -0.88670424,\n",
       "         1.03138059,  0.55994303],\n",
       "       [-0.46832082, -1.58205783, -1.90176574, ..., -0.00483987,\n",
       "         0.574784  ,  0.65557457],\n",
       "       ...,\n",
       "       [-0.46832082,  0.63208815, -0.83662922, ..., -0.31849022,\n",
       "        -0.9305312 ,  0.03588032],\n",
       "       [-0.46832082,  0.63208815,  1.50406016, ..., -0.00483987,\n",
       "        -1.79231384, -0.59524368],\n",
       "       [-0.46832082, -1.58205783,  0.48155634, ...,  1.05646698,\n",
       "         0.18651497,  0.5197925 ]])"
      ]
     },
     "execution_count": 41,
     "metadata": {},
     "output_type": "execute_result"
    }
   ],
   "source": [
    "from sklearn.preprocessing import power_transform\n",
    "x_new = power_transform(x,method='yeo-johnson')\n",
    "x_new"
   ]
  },
  {
   "cell_type": "code",
   "execution_count": 42,
   "metadata": {},
   "outputs": [
    {
     "data": {
      "text/plain": [
       "No. of owners         1.667518\n",
       "Transmission         -0.950265\n",
       "Company              -0.090460\n",
       "Fuel_Type_Diesel     -0.105574\n",
       "Fuel_Type_Electric    0.000000\n",
       "Fuel_Type_LPG         0.000000\n",
       "Fuel_Type_Petrol      0.128938\n",
       "Making Year          -0.115199\n",
       "Kms                  -0.352946\n",
       "Engine               -0.048033\n",
       "dtype: float64"
      ]
     },
     "execution_count": 42,
     "metadata": {},
     "output_type": "execute_result"
    }
   ],
   "source": [
    "x_new = pd.DataFrame(x_new,columns=x.columns)\n",
    "x_new.skew()"
   ]
  },
  {
   "cell_type": "markdown",
   "metadata": {},
   "source": [
    "#### Scaling x"
   ]
  },
  {
   "cell_type": "code",
   "execution_count": 43,
   "metadata": {},
   "outputs": [],
   "source": [
    "scale = StandardScaler()\n",
    "X_scaled = scale.fit_transform(x_new)"
   ]
  },
  {
   "cell_type": "markdown",
   "metadata": {},
   "source": [
    "#### Finding the Best random State"
   ]
  },
  {
   "cell_type": "code",
   "execution_count": 44,
   "metadata": {},
   "outputs": [
    {
     "name": "stdout",
     "output_type": "stream",
     "text": [
      "Maximum score is 0.16046413907949242 when 103 is the random state\n"
     ]
    }
   ],
   "source": [
    "from sklearn.linear_model import LinearRegression\n",
    "max_score = 0\n",
    "max_rs = 0\n",
    "for i in range(1,300):\n",
    "    x_train,x_test,y_train,y_test = train_test_split(X_scaled,y,test_size=0.25,random_state = i)\n",
    "    lr = LinearRegression()\n",
    "    lr.fit(x_train,y_train)\n",
    "    y_pred = lr.predict(x_test)\n",
    "    score = lr.score(x_train,y_train)\n",
    "    if score>max_score:\n",
    "        max_score = score\n",
    "        max_rs = i\n",
    "print(\"Maximum score is\",max_score,\"when\",max_rs,\"is the random state\")"
   ]
  },
  {
   "cell_type": "code",
   "execution_count": 45,
   "metadata": {},
   "outputs": [],
   "source": [
    "x_train,x_test,y_train,y_test = train_test_split(X_scaled,y,test_size=0.25,random_state = 103)"
   ]
  },
  {
   "cell_type": "code",
   "execution_count": 46,
   "metadata": {},
   "outputs": [
    {
     "name": "stdout",
     "output_type": "stream",
     "text": [
      "Score in training dataset =  0.16046413907949242\n",
      "Score in testing dataset =  0.058714588919677624\n",
      "MAE is :  145.39842282406954\n",
      "MSE is : 33456.78838013178\n",
      "RMSE is : 182.91196893623933\n"
     ]
    }
   ],
   "source": [
    "lr = LinearRegression()\n",
    "lr.fit(x_train,y_train)\n",
    "y_pred = lr.predict(x_test)\n",
    "print(\"Score in training dataset = \",lr.score(x_train,y_train))\n",
    "print(\"Score in testing dataset = \",lr.score(x_test,y_test))\n",
    "print(\"MAE is : \",mean_absolute_error(y_test,y_pred))\n",
    "print(\"MSE is :\",mean_squared_error(y_test,y_pred))\n",
    "print(\"RMSE is :\",np.sqrt(mean_squared_error(y_test,y_pred)))"
   ]
  },
  {
   "cell_type": "code",
   "execution_count": 47,
   "metadata": {},
   "outputs": [
    {
     "name": "stdout",
     "output_type": "stream",
     "text": [
      "Score in training dataset is  0.9935155779492361\n",
      "Score in testing dataset is  0.12239294137453993\n",
      "MAE is :  99.61040110650069\n",
      "MSE is : 31193.42262793914\n",
      "RMSE is : 176.61659782687227\n"
     ]
    }
   ],
   "source": [
    "dt = DecisionTreeRegressor()\n",
    "dt.fit(x_train,y_train)\n",
    "y_pred_dt = dt.predict(x_test)\n",
    "print(\"Score in training dataset is \",dt.score(x_train,y_train))\n",
    "print(\"Score in testing dataset is \",dt.score(x_test,y_test))\n",
    "print(\"MAE is : \",mean_absolute_error(y_test,y_pred_dt))\n",
    "print(\"MSE is :\",mean_squared_error(y_test,y_pred_dt))\n",
    "print(\"RMSE is :\",np.sqrt(mean_squared_error(y_test,y_pred_dt)))"
   ]
  },
  {
   "cell_type": "code",
   "execution_count": 48,
   "metadata": {},
   "outputs": [
    {
     "name": "stdout",
     "output_type": "stream",
     "text": [
      "Score in training dataset is  0.9255234996973594\n",
      "Score in testing dataset is  0.478839885049976\n",
      "MAE is :  87.45684993683128\n",
      "MSE is : 18523.97102175019\n",
      "RMSE is : 136.102795789617\n"
     ]
    }
   ],
   "source": [
    "rf = RandomForestRegressor()\n",
    "rf.fit(x_train,y_train)\n",
    "y_pred_rf = rf.predict(x_test)\n",
    "print(\"Score in training dataset is \",rf.score(x_train,y_train))\n",
    "print(\"Score in testing dataset is \",rf.score(x_test,y_test))\n",
    "print(\"MAE is : \",mean_absolute_error(y_test,y_pred_rf))\n",
    "print(\"MSE is :\",mean_squared_error(y_test,y_pred_rf))\n",
    "print(\"RMSE is :\",np.sqrt(mean_squared_error(y_test,y_pred_rf)))"
   ]
  },
  {
   "cell_type": "code",
   "execution_count": 49,
   "metadata": {},
   "outputs": [
    {
     "name": "stdout",
     "output_type": "stream",
     "text": [
      "Score in training dataset is  0.4712548906373619\n",
      "Score in testing dataset is  0.3487615486069858\n",
      "MAE is :  113.00229746535499\n",
      "MSE is : 23147.43944480571\n",
      "RMSE is : 152.14282580787602\n"
     ]
    }
   ],
   "source": [
    "from sklearn.ensemble import GradientBoostingRegressor\n",
    "gbr = GradientBoostingRegressor()\n",
    "gbr.fit(x_train,y_train)\n",
    "y_pred_gbr = gbr.predict(x_test)\n",
    "print(\"Score in training dataset is \",gbr.score(x_train,y_train))\n",
    "print(\"Score in testing dataset is \",gbr.score(x_test,y_test))\n",
    "print(\"MAE is : \",mean_absolute_error(y_test,y_pred_gbr))\n",
    "print(\"MSE is :\",mean_squared_error(y_test,y_pred_gbr))\n",
    "print(\"RMSE is :\",np.sqrt(mean_squared_error(y_test,y_pred_gbr)))"
   ]
  },
  {
   "cell_type": "code",
   "execution_count": 50,
   "metadata": {},
   "outputs": [
    {
     "name": "stdout",
     "output_type": "stream",
     "text": [
      "Score in training dataset is  0.19501589539245112\n",
      "Score in testing dataset is  0.12097468564170821\n",
      "MAE is :  138.88074109599197\n",
      "MSE is : 31243.832717550325\n",
      "RMSE is : 176.75925072694307\n"
     ]
    }
   ],
   "source": [
    "svr = SVR()\n",
    "svr.fit(x_train,y_train)\n",
    "y_pred_svr = svr.predict(x_test)\n",
    "print(\"Score in training dataset is \",svr.score(x_train,y_train))\n",
    "print(\"Score in testing dataset is \",svr.score(x_test,y_test))\n",
    "print(\"MAE is : \",mean_absolute_error(y_test,y_pred_svr))\n",
    "print(\"MSE is :\",mean_squared_error(y_test,y_pred_svr))\n",
    "print(\"RMSE is :\",np.sqrt(mean_squared_error(y_test,y_pred_svr)))"
   ]
  },
  {
   "cell_type": "code",
   "execution_count": 51,
   "metadata": {},
   "outputs": [
    {
     "name": "stdout",
     "output_type": "stream",
     "text": [
      "Score in training dataset is  0.8715440894952742\n",
      "Score in testing dataset is  0.4618991600318365\n",
      "MAE is :  92.96718980306412\n",
      "MSE is : 19126.10746757845\n",
      "R2 score is :  0.4618991600318365\n",
      "RMSE is : 138.29717085890965\n"
     ]
    }
   ],
   "source": [
    "xgbr = XGBRegressor()\n",
    "xgbr.fit(x_train,y_train)\n",
    "y_pred_xgbr = xgbr.predict(x_test)\n",
    "print(\"Score in training dataset is \",xgbr.score(x_train,y_train))\n",
    "print(\"Score in testing dataset is \",xgbr.score(x_test,y_test))\n",
    "print(\"MAE is : \",mean_absolute_error(y_test,y_pred_xgbr))\n",
    "print(\"MSE is :\",mean_squared_error(y_test,y_pred_xgbr))\n",
    "print(\"R2 score is : \",r2_score(y_test,y_pred_xgbr))\n",
    "print(\"RMSE is :\",np.sqrt(mean_squared_error(y_test,y_pred_xgbr)))"
   ]
  },
  {
   "cell_type": "code",
   "execution_count": 52,
   "metadata": {},
   "outputs": [
    {
     "name": "stdout",
     "output_type": "stream",
     "text": [
      "Cross validation score of Linear Regression model is :  0.12348857959668451\n"
     ]
    }
   ],
   "source": [
    "cvs = cross_val_score(lr,X_scaled,y,cv=5,scoring='r2')\n",
    "cvs = np.mean(cvs)\n",
    "print(\"Cross validation score of Linear Regression model is : \",cvs)"
   ]
  },
  {
   "cell_type": "code",
   "execution_count": 53,
   "metadata": {},
   "outputs": [
    {
     "name": "stdout",
     "output_type": "stream",
     "text": [
      "Cross validation score of Decision tree model is :  -0.04762967481048941\n"
     ]
    }
   ],
   "source": [
    "cvs = cross_val_score(dt,X_scaled,y,cv=5,scoring='r2')\n",
    "cvs = np.mean(cvs)\n",
    "print(\"Cross validation score of Decision tree model is : \",cvs)"
   ]
  },
  {
   "cell_type": "code",
   "execution_count": 54,
   "metadata": {},
   "outputs": [
    {
     "name": "stdout",
     "output_type": "stream",
     "text": [
      "Cross validation score of RandomForestRegressor model is :  0.383618011356279\n"
     ]
    }
   ],
   "source": [
    "cvs = cross_val_score(rf,X_scaled,y,cv=10)\n",
    "cvs = np.mean(cvs)\n",
    "print(\"Cross validation score of RandomForestRegressor model is : \",cvs)"
   ]
  },
  {
   "cell_type": "code",
   "execution_count": 55,
   "metadata": {},
   "outputs": [
    {
     "name": "stdout",
     "output_type": "stream",
     "text": [
      "Cross validation score of GradientBoostingRegressor model is :  0.35648352544111805\n"
     ]
    }
   ],
   "source": [
    "cvs = cross_val_score(gbr,X_scaled,y,cv=10)\n",
    "cvs = np.mean(cvs)\n",
    "print(\"Cross validation score of GradientBoostingRegressor model is : \",cvs)"
   ]
  },
  {
   "cell_type": "code",
   "execution_count": 56,
   "metadata": {},
   "outputs": [
    {
     "name": "stdout",
     "output_type": "stream",
     "text": [
      "Cross validation score of SVR model is :  0.17162144572462965\n"
     ]
    }
   ],
   "source": [
    "cvs = cross_val_score(svr,X_scaled,y,cv=10)\n",
    "cvs = np.mean(cvs)\n",
    "print(\"Cross validation score of SVR model is : \",cvs)"
   ]
  },
  {
   "cell_type": "code",
   "execution_count": 57,
   "metadata": {},
   "outputs": [
    {
     "name": "stdout",
     "output_type": "stream",
     "text": [
      "Cross validation score of XGBRegressor model is :  0.3677303105448445\n"
     ]
    }
   ],
   "source": [
    "cvs = cross_val_score(xgbr,X_scaled,y,cv=10)\n",
    "cvs = np.mean(cvs)\n",
    "print(\"Cross validation score of XGBRegressor model is : \",cvs)"
   ]
  },
  {
   "cell_type": "markdown",
   "metadata": {},
   "source": [
    "#### Taking XGBoost Regressor as the best model as the difference is low"
   ]
  },
  {
   "cell_type": "markdown",
   "metadata": {},
   "source": [
    "#### Hyper Parameter Tuning"
   ]
  },
  {
   "cell_type": "code",
   "execution_count": 58,
   "metadata": {},
   "outputs": [
    {
     "name": "stdout",
     "output_type": "stream",
     "text": [
      "[11:36:23] WARNING: C:/Users/Administrator/workspace/xgboost-win64_release_1.4.0/src/learner.cc:573: \n",
      "Parameters: { \"min_samples_leaf\" } might not be used.\n",
      "\n",
      "  This may not be accurate due to some parameters are only used in language bindings but\n",
      "  passed down to XGBoost core.  Or some parameters are not used but slip through this\n",
      "  verification. Please open an issue if you find above cases.\n",
      "\n",
      "\n",
      "Best Parameters are \n",
      " {'learning_rate': 0.05, 'max_depth': 10, 'min_samples_leaf': 1, 'n_estimators': 80}\n"
     ]
    }
   ],
   "source": [
    "params = {'learning_rate':np.arange(0.05,0.23),\n",
    "          'n_estimators':[10,80,10],\n",
    "          'max_depth':[2,10,2],\n",
    "          'min_samples_leaf':[1,10,2]\n",
    "         }\n",
    "grid = GridSearchCV(estimator = xgbr,param_grid = params,cv=10,n_jobs=-1)\n",
    "grid.fit(x_train,y_train)\n",
    "best_params = grid.best_params_\n",
    "print(\"Best Parameters are \\n\",best_params)"
   ]
  },
  {
   "cell_type": "code",
   "execution_count": 59,
   "metadata": {},
   "outputs": [
    {
     "name": "stdout",
     "output_type": "stream",
     "text": [
      "[11:36:24] WARNING: C:/Users/Administrator/workspace/xgboost-win64_release_1.4.0/src/learner.cc:573: \n",
      "Parameters: { \"min_samples_leaf\" } might not be used.\n",
      "\n",
      "  This may not be accurate due to some parameters are only used in language bindings but\n",
      "  passed down to XGBoost core.  Or some parameters are not used but slip through this\n",
      "  verification. Please open an issue if you find above cases.\n",
      "\n",
      "\n",
      "Score in training dataset is  0.8813979593133476\n",
      "Score in testing dataset is  0.48311695726880377\n",
      "MAE is :  88.55054732041735\n",
      "MSE is : 18371.947949441415\n",
      "R2 score is :  0.48311695726880377\n",
      "RMSE is : 135.54315899167105\n"
     ]
    }
   ],
   "source": [
    "gbr = XGBRegressor(learning_rate=0.06,max_depth=10,min_samples_leaf=1,n_estimators=80)\n",
    "gbr.fit(x_train,y_train)\n",
    "y_pred = gbr.predict(x_test)\n",
    "print(\"Score in training dataset is \",gbr.score(x_train,y_train))\n",
    "print(\"Score in testing dataset is \",gbr.score(x_test,y_test))\n",
    "print(\"MAE is : \",mean_absolute_error(y_test,y_pred))\n",
    "print(\"MSE is :\",mean_squared_error(y_test,y_pred))\n",
    "print(\"R2 score is : \",r2_score(y_test,y_pred))\n",
    "print(\"RMSE is :\",np.sqrt(mean_squared_error(y_test,y_pred)))"
   ]
  },
  {
   "cell_type": "markdown",
   "metadata": {},
   "source": [
    "#### After HPT accuracy increased to 46.79%"
   ]
  },
  {
   "cell_type": "markdown",
   "metadata": {},
   "source": [
    "##### Saving File"
   ]
  },
  {
   "cell_type": "code",
   "execution_count": 60,
   "metadata": {},
   "outputs": [],
   "source": [
    "filename = 'Used Car Price Prediction.pkl'\n",
    "pickle.dump(xgbr,open(filename,'wb'))"
   ]
  },
  {
   "cell_type": "code",
   "execution_count": null,
   "metadata": {},
   "outputs": [],
   "source": []
  }
 ],
 "metadata": {
  "kernelspec": {
   "display_name": "Python 3",
   "language": "python",
   "name": "python3"
  },
  "language_info": {
   "codemirror_mode": {
    "name": "ipython",
    "version": 3
   },
   "file_extension": ".py",
   "mimetype": "text/x-python",
   "name": "python",
   "nbconvert_exporter": "python",
   "pygments_lexer": "ipython3",
   "version": "3.8.5"
  }
 },
 "nbformat": 4,
 "nbformat_minor": 4
}
